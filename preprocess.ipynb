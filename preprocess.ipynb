{
 "cells": [
  {
   "cell_type": "code",
   "execution_count": 1,
   "metadata": {},
   "outputs": [],
   "source": [
    "import pandas as pd"
   ]
  },
  {
   "cell_type": "code",
   "execution_count": 2,
   "metadata": {},
   "outputs": [],
   "source": [
    "df = pd.read_excel(\"C:/Users/zabor/Desktop/depression_data_2020covid_deprred_clean_v3.xlsx\")\n",
    "#adatbázis első beolvasása"
   ]
  },
  {
   "cell_type": "code",
   "execution_count": 3,
   "metadata": {
    "scrolled": true
   },
   "outputs": [
    {
     "data": {
      "text/plain": [
       "(342509, 29)"
      ]
     },
     "execution_count": 3,
     "metadata": {},
     "output_type": "execute_result"
    }
   ],
   "source": [
    "df.shape"
   ]
  },
  {
   "cell_type": "code",
   "execution_count": 4,
   "metadata": {},
   "outputs": [
    {
     "data": {
      "text/html": [
       "<div>\n",
       "<style scoped>\n",
       "    .dataframe tbody tr th:only-of-type {\n",
       "        vertical-align: middle;\n",
       "    }\n",
       "\n",
       "    .dataframe tbody tr th {\n",
       "        vertical-align: top;\n",
       "    }\n",
       "\n",
       "    .dataframe thead th {\n",
       "        text-align: right;\n",
       "    }\n",
       "</style>\n",
       "<table border=\"1\" class=\"dataframe\">\n",
       "  <thead>\n",
       "    <tr style=\"text-align: right;\">\n",
       "      <th></th>\n",
       "      <th>level_0</th>\n",
       "      <th>index</th>\n",
       "      <th>id</th>\n",
       "      <th>day</th>\n",
       "      <th>domain2</th>\n",
       "      <th>sorsz</th>\n",
       "      <th>onlyday</th>\n",
       "      <th>thread_jo</th>\n",
       "      <th>dupla_e</th>\n",
       "      <th>duplA</th>\n",
       "      <th>...</th>\n",
       "      <th>lexdiv</th>\n",
       "      <th>adj</th>\n",
       "      <th>former_author</th>\n",
       "      <th>sorsz3</th>\n",
       "      <th>hossz</th>\n",
       "      <th>postsimlexdiv</th>\n",
       "      <th>postsimadj</th>\n",
       "      <th>postsimszh</th>\n",
       "      <th>postsimfilt</th>\n",
       "      <th>postsimfilt2</th>\n",
       "    </tr>\n",
       "  </thead>\n",
       "  <tbody>\n",
       "    <tr>\n",
       "      <th>0</th>\n",
       "      <td>NaN</td>\n",
       "      <td>1946546</td>\n",
       "      <td>661ecd6a5ed2688768b6512e0f3cd5fa</td>\n",
       "      <td>2020-08-11</td>\n",
       "      <td>youthbeyondblue.com</td>\n",
       "      <td>173683</td>\n",
       "      <td>2020-08-11</td>\n",
       "      <td>19157</td>\n",
       "      <td>False</td>\n",
       "      <td>1</td>\n",
       "      <td>...</td>\n",
       "      <td>9.288843</td>\n",
       "      <td>0.082949</td>\n",
       "      <td>Josh</td>\n",
       "      <td>0</td>\n",
       "      <td>1033.0</td>\n",
       "      <td>False</td>\n",
       "      <td>False</td>\n",
       "      <td>False</td>\n",
       "      <td>0</td>\n",
       "      <td>0</td>\n",
       "    </tr>\n",
       "    <tr>\n",
       "      <th>1</th>\n",
       "      <td>NaN</td>\n",
       "      <td>2078881</td>\n",
       "      <td>fb3849f5fd86fd8e624fe3e269efb04a</td>\n",
       "      <td>2020-08-11</td>\n",
       "      <td>youthbeyondblue.com</td>\n",
       "      <td>173684</td>\n",
       "      <td>2020-08-11</td>\n",
       "      <td>19157</td>\n",
       "      <td>False</td>\n",
       "      <td>1</td>\n",
       "      <td>...</td>\n",
       "      <td>8.918369</td>\n",
       "      <td>0.060811</td>\n",
       "      <td>Josh</td>\n",
       "      <td>1</td>\n",
       "      <td>1354.0</td>\n",
       "      <td>False</td>\n",
       "      <td>False</td>\n",
       "      <td>False</td>\n",
       "      <td>0</td>\n",
       "      <td>0</td>\n",
       "    </tr>\n",
       "    <tr>\n",
       "      <th>2</th>\n",
       "      <td>NaN</td>\n",
       "      <td>2106482</td>\n",
       "      <td>4a1288c08a92cee153e428c6b7bae741</td>\n",
       "      <td>2020-07-29</td>\n",
       "      <td>youthbeyondblue.com</td>\n",
       "      <td>15466</td>\n",
       "      <td>2020-07-29</td>\n",
       "      <td>19157</td>\n",
       "      <td>False</td>\n",
       "      <td>1</td>\n",
       "      <td>...</td>\n",
       "      <td>8.870976</td>\n",
       "      <td>0.069343</td>\n",
       "      <td>99_noauthor</td>\n",
       "      <td>2</td>\n",
       "      <td>1282.0</td>\n",
       "      <td>False</td>\n",
       "      <td>False</td>\n",
       "      <td>False</td>\n",
       "      <td>0</td>\n",
       "      <td>0</td>\n",
       "    </tr>\n",
       "    <tr>\n",
       "      <th>3</th>\n",
       "      <td>NaN</td>\n",
       "      <td>2096314</td>\n",
       "      <td>9a98499c8e8855e2f8c234f0643999b1</td>\n",
       "      <td>2020-07-28</td>\n",
       "      <td>youthbeyondblue.com</td>\n",
       "      <td>155933</td>\n",
       "      <td>2020-07-28</td>\n",
       "      <td>19157</td>\n",
       "      <td>False</td>\n",
       "      <td>1</td>\n",
       "      <td>...</td>\n",
       "      <td>8.272727</td>\n",
       "      <td>0.070423</td>\n",
       "      <td>99_noauthor</td>\n",
       "      <td>3</td>\n",
       "      <td>707.0</td>\n",
       "      <td>False</td>\n",
       "      <td>False</td>\n",
       "      <td>False</td>\n",
       "      <td>0</td>\n",
       "      <td>0</td>\n",
       "    </tr>\n",
       "    <tr>\n",
       "      <th>4</th>\n",
       "      <td>NaN</td>\n",
       "      <td>2106480</td>\n",
       "      <td>73edc9e616420ff71b3087e4a9c9f4d6</td>\n",
       "      <td>2020-07-29</td>\n",
       "      <td>youthbeyondblue.com</td>\n",
       "      <td>15465</td>\n",
       "      <td>2020-07-29</td>\n",
       "      <td>19157</td>\n",
       "      <td>False</td>\n",
       "      <td>1</td>\n",
       "      <td>...</td>\n",
       "      <td>8.248751</td>\n",
       "      <td>0.065421</td>\n",
       "      <td>Josh</td>\n",
       "      <td>4</td>\n",
       "      <td>1038.0</td>\n",
       "      <td>False</td>\n",
       "      <td>False</td>\n",
       "      <td>False</td>\n",
       "      <td>0</td>\n",
       "      <td>0</td>\n",
       "    </tr>\n",
       "  </tbody>\n",
       "</table>\n",
       "<p>5 rows × 29 columns</p>\n",
       "</div>"
      ],
      "text/plain": [
       "   level_0    index                                id        day  \\\n",
       "0      NaN  1946546  661ecd6a5ed2688768b6512e0f3cd5fa 2020-08-11   \n",
       "1      NaN  2078881  fb3849f5fd86fd8e624fe3e269efb04a 2020-08-11   \n",
       "2      NaN  2106482  4a1288c08a92cee153e428c6b7bae741 2020-07-29   \n",
       "3      NaN  2096314  9a98499c8e8855e2f8c234f0643999b1 2020-07-28   \n",
       "4      NaN  2106480  73edc9e616420ff71b3087e4a9c9f4d6 2020-07-29   \n",
       "\n",
       "               domain2   sorsz    onlyday  thread_jo  dupla_e  duplA  ...  \\\n",
       "0  youthbeyondblue.com  173683 2020-08-11      19157    False      1  ...   \n",
       "1  youthbeyondblue.com  173684 2020-08-11      19157    False      1  ...   \n",
       "2  youthbeyondblue.com   15466 2020-07-29      19157    False      1  ...   \n",
       "3  youthbeyondblue.com  155933 2020-07-28      19157    False      1  ...   \n",
       "4  youthbeyondblue.com   15465 2020-07-29      19157    False      1  ...   \n",
       "\n",
       "     lexdiv       adj  former_author  sorsz3   hossz  postsimlexdiv  \\\n",
       "0  9.288843  0.082949           Josh       0  1033.0          False   \n",
       "1  8.918369  0.060811           Josh       1  1354.0          False   \n",
       "2  8.870976  0.069343    99_noauthor       2  1282.0          False   \n",
       "3  8.272727  0.070423    99_noauthor       3   707.0          False   \n",
       "4  8.248751  0.065421           Josh       4  1038.0          False   \n",
       "\n",
       "  postsimadj  postsimszh  postsimfilt  postsimfilt2  \n",
       "0      False       False            0             0  \n",
       "1      False       False            0             0  \n",
       "2      False       False            0             0  \n",
       "3      False       False            0             0  \n",
       "4      False       False            0             0  \n",
       "\n",
       "[5 rows x 29 columns]"
      ]
     },
     "execution_count": 4,
     "metadata": {},
     "output_type": "execute_result"
    }
   ],
   "source": [
    "df.head()"
   ]
  },
  {
   "cell_type": "code",
   "execution_count": 5,
   "metadata": {},
   "outputs": [],
   "source": [
    "df_new = df[df[\"onlyday\"] >= \"2020-03-11\"]\n",
    "#időszakra szűkítés, 2020.03.11. utáni adatok megtartása"
   ]
  },
  {
   "cell_type": "code",
   "execution_count": 6,
   "metadata": {},
   "outputs": [],
   "source": [
    "df_new = df_new.reset_index(drop=True)\n",
    "#újra indexelés"
   ]
  },
  {
   "cell_type": "code",
   "execution_count": 7,
   "metadata": {},
   "outputs": [
    {
     "data": {
      "text/plain": [
       "(122417, 29)"
      ]
     },
     "execution_count": 7,
     "metadata": {},
     "output_type": "execute_result"
    }
   ],
   "source": [
    "df_new.shape"
   ]
  },
  {
   "cell_type": "code",
   "execution_count": 8,
   "metadata": {},
   "outputs": [
    {
     "name": "stdout",
     "output_type": "stream",
     "text": [
      "('661ecd6a5ed2688768b6512e0f3cd5fa', 'Hey Josh,\\nSorry for the super late reply. I was on a formal placement with BB as apart of my course (I\\'m studying psych) and it finished up a couple weeks back.\\nYour reflections about the start of high school are really interesting, the power of hindsight hey. What your saying is that you have felt this way before but considered it as more \"growing pains\" then perhaps depression or a mental health problem. Show really good self-insight that you can identify that there is a but of a pattern going on. I would imagine that the transition to high school would have been very new, and stressful, probably quite similar circumstances to what\\'s happening now maybe?\\nIt might be helpful to know that in general mental health issues can come and go, depending on the circumstances. We can think of particular life events (say starting in a new school, COVID-19) as triggers. These things can kick back in an underlying mood disorder, or concerns. Does this resinate at all?\\nI hope I\\'m not too late, and I hear back from you soon Josh174')\n"
     ]
    }
   ],
   "source": [
    "dictionary = {}\n",
    "for i in range(len(df_new[\"id\"])):\n",
    "    dictionary[df_new[\"id\"][i]] = df_new[\"post_content\"][i]\n",
    "print(list(dictionary.items())[0])\n",
    "#szótár készítése id - szöveg formában"
   ]
  },
  {
   "cell_type": "code",
   "execution_count": 9,
   "metadata": {},
   "outputs": [
    {
     "data": {
      "text/plain": [
       "Index(['level_0', 'index', 'id', 'day', 'domain2', 'sorsz', 'onlyday',\n",
       "       'thread_jo', 'dupla_e', 'duplA', 'duplfirst', 'duplfiltv', 'repost',\n",
       "       'repostok', 'ism2', 'ism', 'post_content', 'sorsz_total', 'szohossz',\n",
       "       'lexdiv', 'adj', 'former_author', 'sorsz3', 'hossz', 'postsimlexdiv',\n",
       "       'postsimadj', 'postsimszh', 'postsimfilt', 'postsimfilt2'],\n",
       "      dtype='object')"
      ]
     },
     "execution_count": 9,
     "metadata": {},
     "output_type": "execute_result"
    }
   ],
   "source": [
    "df_new.columns"
   ]
  },
  {
   "cell_type": "code",
   "execution_count": 10,
   "metadata": {},
   "outputs": [],
   "source": [
    "dictionary2 = {}\n",
    "for key, value in dictionary.items():\n",
    "    dictionary2.setdefault(value, set()).add(key)\n",
    "\n",
    "dupl = [list(values) for key, values in dictionary2.items() if len(values) > 1] \n",
    "for i in range(len(dupl)):\n",
    "    del dupl[i][-1]\n",
    "#szótár készítése duplikációk eltávolítására"
   ]
  },
  {
   "cell_type": "code",
   "execution_count": 11,
   "metadata": {},
   "outputs": [
    {
     "data": {
      "text/plain": [
       "251"
      ]
     },
     "execution_count": 11,
     "metadata": {},
     "output_type": "execute_result"
    }
   ],
   "source": [
    "len(dupl)"
   ]
  },
  {
   "cell_type": "code",
   "execution_count": 12,
   "metadata": {},
   "outputs": [
    {
     "name": "stdout",
     "output_type": "stream",
     "text": [
      "[['661ecd6a5ed2688768b6512e0f3cd5fa'], ['3acfad475c1354b434dc44464e6fe1af'], ['4a1288c08a92cee153e428c6b7bae741'], ['9a98499c8e8855e2f8c234f0643999b1'], ['73edc9e616420ff71b3087e4a9c9f4d6'], ['abf50b27568a1e613aa7fc26d921e077'], ['3dcb507eafa608e7aa66af9fb5a74312'], ['7429ba659f71c266b5955923d438d704'], ['2004c24a5d121937291cccad55e55024'], ['a263c28dc4461067fda8cd94b6750e8c'], ['9d85ae8e458087d0e0cdeea2377a2121'], ['0cd47d87545ee514bf9da19ca13316a3'], ['a5e04eb99a4097307fbfeef038b12264'], ['f9d028d56e67ff056ac6a061a5c0c579'], ['9c380bafaaaa9d953c42b9d9489ca089'], ['a0a3dd50b0cc25c47ddb8e14ec6e7d50'], ['0038fc490e67f872ea9999599e4fa0bf'], ['88009984a180e5ad48f58536560dd996'], ['aae579311be87527a4d27e8cf71a7c84'], ['c0cf4187b7b1cf456a2487b7c8b3ac6d'], ['63b9bee1ac9131435198ae9fb4874277'], ['5589c8f171f5342db0fdc3c2e6afec19'], ['325455462f5e42f4a25943cfd7307242'], ['b53ecbce843e3cee9474884507745def'], ['4ae2ead7e7897a8eb0637c82f529f828'], ['31bd4c1f5ec3b7012d8f7014e36d1795'], ['fd2ce72c27e48508e24ce7c1c49a2425'], ['adb0a28cd96a59ec2c57424613348ce8'], ['7405e0e078809eaaf320c5dfbe78fb75'], ['ce1759d0353680ddb2e538bfb49d7b35'], ['a90a2af937b7caf06b8bb710c0a76d71'], ['c5e9fcb0088c42078b0f990ed30a09e3'], ['33fa53ddeaacb0b42bbb607f652c12e9'], ['0f7c14134129cfa25f0e5fe6b15506aa'], ['56a450c6359e2d011290d9307a70bba3'], ['99ec7cc65a653ce9ae25ddb86ed48ab2'], ['5f4a9f189d669bbfc3d7e26c48c27e11'], ['c7efcab11ae321a5b0e33687c8694e3d'], ['33ae7bd2015998975ac8f9f9e511a087'], ['06b48a1df888c61636f31462df1cfffd'], ['65389583ffe655ca8a0c986de975b3f4'], ['a916a31f3455acabd7dd481a3397febb'], ['4ac2bd0a2739a02f401b832fa127777d'], ['dc5d6702c96b820303ee01256603b9cb'], ['d5a9dff97d649bcb80af3ea984176f89'], ['baaff90e71efb90effb571db4c86c709'], ['d9d68076ecea7248ca92677e20ee11ae'], ['6f2de25b0a4abe441f1f653fc765f0d1'], ['cd419c2a5afbfd2270f98c26ff477240'], ['cdbc2a8ac3418c19b59acc432186f18c'], ['5c1a122a328ffdd5c7cc541a9dfb345b'], ['15594a837deb67a318fc7590cbbfeef5'], ['1f4048e36f8f13dd21ff11116f5c4cce'], ['f43cf6e837b099fc946db929cbd4f820'], ['fd96dee90d6ca3823c9f7aa1b8760bf3'], ['b8f39b22b3b124ae90b782f32f85a7c2'], ['82aefe9dad34e77ab6e0235fc400f330'], ['db59e01ba95438fd75a31b065ed898c3'], ['37ee98bb2ae98401cf74f677bbf1c5ea'], ['c427b3eae79ab8adec4a47876669cc0a', 'f3970e55ee4d0f39285c8bad1cd8db83', '8274b3f0240874694ed0cea12289e90d'], ['29b00746360ae3de59f91e4bff45e2c9'], ['1255fc5f922bd8d15eb12d077869eb78'], ['da34eb645189598cb081617fdac9cefa'], ['6b62848bcbe2a59f17445b38c81cad5a'], ['fe313ec1650ea174efef43b985a2fb43'], ['7e335bd6d91674714d0e3011ae8c3db2'], ['c4e02f7df3ad2f235a5316626dcf2fd4'], ['2482eedd1fc7488fdf320c2e2dfec5b9'], ['166320ad4a1ec58beb5c5233eb12748a'], ['78ece24cccc30ade2d549ff116bf0cf2'], ['01bf97622ae04c946c8565366d4f0770'], ['9ea081573c97a9ba0ebaf7e3e1c8f1db'], ['e6192fe18ef0a178550d714455cc40b3'], ['dd3de43ea57a11b604fa17b5c6dbf48b'], ['4601f668c64d84d56bbe63c67ae4942b'], ['07387e1919142a4431efb7eb8a0cc92d'], ['ffd9fd456b76a1682edb78d41fc13cf4'], ['4840d1c01ccac915d42d6823b1976d7c'], ['3042378a90570aee660e0efdeeeb55b2'], ['dec4be229dc02b6f4e72b88d3c3e4e2f'], ['02cb0e0a6ab535ec7e171a9461f815b4'], ['1fb58c5655590d9e10aea404f652eef2'], ['550532d331a0374f28ea0f589dac62d9'], ['c94f5c39d76ff1ba9d477e056b4b36cb'], ['4e655959639813622932eba22ec033d7'], ['f0ae672d2266ec75f87f5455a380badf'], ['1c51dc7d5d0729789eb8266c357a1f0c'], ['fcaa3b2ce3d27323c465acd3142e47ca'], ['628394ef41ddc6559b7906e8bbabdc2d'], ['b0e72902a822bce69a56f5d677479ee5'], ['61e73f415c4948a55d5a81b412577a9e'], ['422316484224f7db7d7519dede395e48'], ['9de00f13e8cd9d64f383af3781fbb4ff'], ['97b1368b805cdce6f157817d31169951'], ['c6a360a55a9c326271fe470aba45da98'], ['531abc1c0e2ab4557f61d5b1f532e39d'], ['0117534c89c36f2c8e659eb7124e6f10'], ['35f22b3dad47aa351d2c907edb436b98'], ['4beae2bc805bdc811ef3fab2735334af'], ['c2165c6084277f8741e2ac27eb009943'], ['8954bfb81c2916322ae0d16f6a19f7d3'], ['1914101b5bb4072699b689ce66258972'], ['5fc4d97a080473f91ec22555bfe26a3a'], ['e9ba48a34c0b4f52686c2e63ef87b2ce'], ['cfeef70ed45fd4e63bbfd4b55d759039'], ['f453f529ef0d423c749bd67ed72ab8a3'], ['f155d7aa4de7ba56048f1919d738f3ed'], ['135bd50829b31398e4e86847b1d9f74a'], ['ca7019d157015f89531eea96ee833d95'], ['bc4bec1b769ecdfa14417ce87607e18d'], ['922e3f72fdf67989214e39be85d0b8cb'], ['3f6f283a0ea69394bb71a8263aee2704'], ['19c86a7145798b6c5c0d40c9ac3e229c'], ['7fbe5698134d6fc1149dc3ef6866d467'], ['a76bdf49d0162dfc4b32a16c5b135b52'], ['7d52c5bc8a86614e92ea5ff6867446ff'], ['085d66552ae00d43377ed55635937e45'], ['6439386cb15ddf8f18694885479648ca'], ['2d0cfaf0a89fcdf911665c8db1b05914'], ['11a51b1a543179a5acf4e5a3211feadc'], ['05ecaca503e0554ee23877d80e2eeeb5'], ['13299ec226ee6cca0120023912985008'], ['4e283b3182dc34f5195b80aa4693d7ec'], ['14846177352da0254fe4cb2f37945bfc'], ['e5ff0aae3ea792b094f867b7081a2c55'], ['97ae22312da34f45786db637abbdbc9e'], ['cbaf9ddcd88cf79b125ddd4e8bf6e735'], ['a5db4eac835f551a2e2d6b4ebc9b4d5a'], ['0f40104958f1bc157af675018d2e522e'], ['902320e65df6a733c4d83cbd03a3638f'], ['97d018bb8cb5995f450b4e22a2abb595'], ['570cd23040bfd1b3150fc73bfcdd60d3'], ['8899c73842bbd5fed96c0cb377713d35'], ['9f0cbb717e94810ab1b384619a7aeb62'], ['5f073420f7b135033ddb85cb5b1b4675'], ['5efb34a31aa4c93fbd6cb7a83265e525'], ['08eef68d392e7778b3df88850edffab7'], ['38ce60e9a87bc1617b95a6cd239e31fd'], ['e847c864a07ca77cf1b2618db83983e4'], ['627c0d36fdb8021d6f258c831df86aa0'], ['d5929b02d4bc2e5032f56b50b765d16e'], ['c9a1c1ad1b9714315ab226dc4632951a'], ['af0c95355ec2e5b9895976ec66469180'], ['e9c7ce9fe7d3ace9b4bebcff724399e6'], ['45f70021a33a8cf4e1c6e1b021c6840b'], ['73e0d9792a489c43fdc95c34fbdaedca'], ['52b2db7c401b3ae5b1a45ed7697a846e'], ['1af5597ae8ff150f8f897894a261b5ed'], ['ce247f4df9cebdb2b966ed7f034a1229'], ['f2742527b25446fb2823fa65d9865493'], ['faf1da2af1a9cb3298b132e2f7cc3702'], ['bd28f512797f7cdf5658378ad6361437'], ['3cfe0fcc238a168625de844df9dafb37'], ['e16e6578feb58e7be78bb3167e2171dc'], ['f924e645205d9bb726e73c361c079ad7'], ['4b3e1b365f8102bc07036e03577f76ac'], ['52eeccea273a0e40d139c4be6c4d6a10'], ['d481db158c7a23babe7ecddb56ab683a'], ['0fd94b6a6856f7e383d50a31bf20ef45'], ['d5ef4555d883d6197c1becaa0abdf094', 'b7a1fcaee06c2d6f74817423df680b69', '55d7f0c01054819e045e9d428d798d82'], ['031b7b66fdbf001ff0347d8c3df7dbde', '8833d151b22caf5888de1a6b906db84e'], ['6fb16b6944aff5528dcae26a02b35d4d'], ['71648ba65f5c781fd2cb17a22cd9f398'], ['0d20ea1072ca02b908c8589a04a54608'], ['ae97e0d04c28ba2d28695905eb379374'], ['48f6b6fafd3473343554cc1efdf422ec'], ['9cfc9bff7e99771f1aa731e18d73a042'], ['34a86c05283cf606237fab24e47bf2e4'], ['01b57cd8766c5b63dbcbc948874b8aa0', '1789a0cdce5b8310957a64e2f9ffd13b'], ['f6afd019ece00fd79f263305aa5e3aca'], ['686ac43116150561be4de3d8405d9d06', '0e0cb3c277a4b48e3c99487b0d83f5c2'], ['e9852cdd555b801ae2765cd880d8c65a', '41e0e7b2f0e4a1c963616c32aeabd470', '01965b5a9f29d75f6845e53574f384f3'], ['dbc7a43fc1144b1b9ff256fde5bfeda3', '65682a6860d1fff5911b0d333e0f2589', 'c2e774833f9299a09c6f07561a1b37df'], ['0266e30373003743f81afba83ac5fdbc'], ['bf7b0678eb83755a9983a500554745a8'], ['b2fb2a01d3bb4cb291f7bb982b630dd1'], ['afd9ad4a6bc063034d2e420558f5445f', '04442b81cddacde6169d5bf34f59f032'], ['7a5b11e9e03c67e8307f7a3afbefa1f1'], ['26cc01169cc596fab3763941fb6e7af0'], ['cdb30472f641072afc3f633fb2ed6998'], ['d1bbedbea61e90daf38e3bafcd381ad0'], ['cc3bec1214cef7536a8178fe63134766', 'b06745fc10371149e42c571d8b2e7162'], ['70a991197ad74483f38ad2c47499a39a'], ['4858879f13a4ebb24313ec74b49c292e'], ['c3eb8ac6a6a614079c6b039f0f6cf0c1'], ['a5b57c1697fae388d6fd726821973ad8'], ['41541ab7365f72797583a57c87bef7c0'], ['a8c3cb961fc529e0e36e2a74b4d54e07'], ['284074e51ca3a29c433187512fcc5c96'], ['c7c4a37827e65d4902101d48d2b36a77'], ['f297110610fa64f71445a6f88d6dde61'], ['c01a094fe384e8deecd2120d46279be6'], ['978d7f57853fed177e4b4139d2f9d049'], ['02847dd5c21ccb6f0f32e43f52268b85'], ['6774d0eaec2c90e62d5dac1e861a82a2', 'ac29c4e637b416ba1ed4869951bf3b4e', 'a0095872221d24951925abf2d814961c'], ['0ff28d4fc675a4088e2ced8b789908a8', 'cbe47a3350312ff2580fcf8044dc4b28'], ['3adaf405d0ee7e9bbe6e92e292abc98d'], ['a9bb322713e3b968121730a4871a6af5'], ['2599bb531d7044d00a117246963be4e2'], ['860c7788031a8e944ba1641c9b795e09'], ['6d4d9f930dd39bf33b0e602d8070f102'], ['e9daffc488d636994810e3c0fb6628b4'], ['88b74382a306253e4be0d49386d3390a'], ['65d7127f80ed6f04c4623ac05a14a723'], ['7a4c28ebd8d07a138dcbe12190bed858'], ['18a35213f5ecf935767c55e089f19a95', '41eb39d2512a460245cdd90534e4d3f1'], ['6d05ca71295a0b29e14e49acd6a1e469'], ['b918072ba7b5bc43f286cbb88a8dfd99'], ['16c7589ae8f66b5c9e762ec7e98c8e93'], ['40cba1266e26fc6629259faebb0a0cf6'], ['d16dad8347fd23f25488cebc38637dce', '5d38b5ec4347b2dedaec0a2fa8f4b067'], ['91956ceb82007c02da21535d70a8be39'], ['7568ea975b2ccba5563451bc85d0cd2c', '3f4d18ff1436c23c97405226415e4781', '4aa169086bbd9f48c54504f1e14b975e', '9fae26486bbd40ac3005f71b231dbb24'], ['07d196333a0892167f07a7e77d1b15bf', 'ed2b5d6e45b9cf97033d4c3c8cfcd465'], ['2af20dfa9266d56e5e675e26b9f6ec79', '12c91f9a192d6c9c449f040c4e5dc0a4'], ['2113e5bdbdea07881fd6a867724d919a', '3c470792e5d67d53e1f4df7a07c90561', '710777b78a50090ab93c3f93be4d27d3'], ['14618c339a5e017bf4e3827262505a2c'], ['b792de2d0558f0464782d1fccf78b293'], ['4d88eb2c97ced057296cf55b4de66f74'], ['8cc7e95ccd28097920dfd367bdc5ec6a'], ['4c0c2899dff1209258236cc03059d72b'], ['7309cd8e3e212bc0e842885c6b4c3465', '988eb24766797145cd5dac5f2ce1d240'], ['47fd4924dc38ed3a85980cb2da6cacc2'], ['81d42944549e755936b64b55b8e1f408'], ['c08bfb252540bcfb43c9a2067bd72ed2'], ['d5d9168c13e55a331ebfca551c11e3e2', '09046e664efe2fcfedbd9096481df1d0'], ['63fa07b14187a6c2f572aaa215f78e31'], ['504df0d6a79657dd5b5657b3a81d09a4'], ['ee7408a50825829f86fb03673b869e67'], ['93384cb44b65c336f5552d05d0f6c0d5'], ['a16727aaf0bfcc66a82817bf70da44dc', '1485746aa953fa208caa39aebc645b17', 'b41ca3236d978430e59c994d68a71b92'], ['da7a61682b8c3d9055ea4c0cf79d9a6e'], ['209cb18260a6ba375c277bf27f2bb214'], ['bf296ab8e16e0c0fc8ae64f40233497c', 'd3b9afa451dd052f9466ca4eb93f0ded', 'be436b829db943b38f5bd7efa8edeaed', '08df9c778b589ce25437158db93d8946', 'd79f73999a0088c82c13e65c76991a1f', '956e7d3aa3a13708df14c87ed9a6ce55', 'c0f6448c0afcd80f5f304f8fb59568ee', 'eacd9fb4686bef8cfe039a96f833b592', '84f5dd357df43118e72a909fcc1e19a7', '0ed61577a2bfbd59b74c7325dd42ba6e', '206eb0957e09f4695dfa163b9e96b922', '221be3248bb70a16e7e2f595a1053213', '682209f939e9ec90c4f237c6a738c1b5', '884a426d3d1bada6963f244f56e676f2', 'b4886453c68670a4f26e1bb6d6a99183', 'f280027112f37b3d943cc745bfe8daa8', 'bc5e6a1782b4b6fb649dc983a24e92aa', '17a90bad6886fd49286438e78b0a11de', '94cbff0ea60c2a4d2e05384169c45634', 'c0865c8eee6b799bf167969d0c6976bc', 'dee89bf070497ca3dbd0e7289ce4b0b9', 'd43c15e85fdf6aa6ac58d22bf8e923bf', 'bf18420545ca52c1b46e84b53deddfc3', 'f8c743f89295ff5c8454e1b2f1e6aa81', '613eb984a80299902b98b2efc3e2c726', '59cb53e8d93ea5da7ee42d74d9ef4b93', '802a98c68ae191883e370aee35db6755', '53e73bd5212cd825ca5210d86f13e217', '86570c9f53adb8fd7b69c29831ad1587', 'e824cd90dca765f230c82771c1a55dc7', 'ac47a00356dd8dc5f35db205b015c8ab', '440d04627ebbe1e008bc2adc2fde56e7', '0ad24de1eddf157ee4235d6bb34bdb42', '6845fc8e08efd8461df70a2e41be6168', '014c3a51e6a3356ba09929d3011936fd', '2e3ecfa6a85f58d6d3267f1f96fe196d', '26c8f52f3614102d5056dab32bd76c99', '668faa1bf04450f6a76c11da029ef88d', 'd645bd6faba9facb151f95e3ab743531', '7d69837471398780773acb8c0139bf62', '5b938d7c3cbfa3b9d488abd02b5dde7e', 'ef795d62c5f879532f402f3fddda89dc', '37f67abc651ed4c7ca2756df8ae88494', '9f275ef15c5c4625d6e149bdf895cd11'], ['20a8ba88dc785dc3cc9603097280952b', 'df1bdcfc3d4db60d4329b0162b1a2b2a', '7e54d20fe9b37bf7d8ed4bf28ecca545'], ['b690f8a2072104c1ccee350f742e8879', 'bc3f758969a8f8f2187a0f602a7955cf', 'd34b9bfc084dcc2dfa68633bd1e07916'], ['cbe9ba750108bfb90e706f42c5c6592c'], ['083a81bc7d784111f6db183353431ac8'], ['6d4f336385bc6413e1b0c40c9f9e877e'], ['cdd9b5ce54168c3814a3163b3c62d495'], ['b9ebc7208252cf04af772329b5c92357'], ['fd0690d5e06495e939dc7f141007950a'], ['205ac25dfccd046679643bb19323219e'], ['0942a0fdaa2c2212bdf139c78b0bd3f9'], ['e8f4c386cd5c5da7c393bc5a0ff77408'], ['d5b4b77c128a1db19272d894592797c1'], ['1c08f3d43f43672d521c5e1c23230d19'], ['f88322b293b35aff90a1c670632351cf'], ['7ed737b0be547418d92e50095ca4f98f'], ['120fc6ba96a6384a073c74f9b14c841d'], ['82181605f70121a15284a146c9b71ed5']]\n"
     ]
    }
   ],
   "source": [
    "print(dupl)"
   ]
  },
  {
   "cell_type": "code",
   "execution_count": 13,
   "metadata": {},
   "outputs": [],
   "source": [
    "remove = []\n",
    "for i in range(len(dupl)):\n",
    "    for j in range(len(dupl[i])):\n",
    "        remove.append(dupl[i][j])\n",
    "#duplikációk törlése"
   ]
  },
  {
   "cell_type": "code",
   "execution_count": 14,
   "metadata": {},
   "outputs": [
    {
     "data": {
      "text/plain": [
       "(122038, 29)"
      ]
     },
     "execution_count": 14,
     "metadata": {},
     "output_type": "execute_result"
    }
   ],
   "source": [
    "df_new2 = df_new[~df_new[\"id\"].isin(remove)]\n",
    "df_new2 = df_new2.reset_index(drop=True)\n",
    "df_new2.shape\n",
    "#újra indexelés"
   ]
  },
  {
   "cell_type": "code",
   "execution_count": 15,
   "metadata": {},
   "outputs": [],
   "source": [
    "from urlextract import URLExtract\n",
    "extractor = URLExtract()"
   ]
  },
  {
   "cell_type": "code",
   "execution_count": 20,
   "metadata": {},
   "outputs": [],
   "source": [
    "id_txt = []\n",
    "for file_name in df_new2[\"post_content\"]:\n",
    "    full = str(file_name)\n",
    "    full = full.replace('\\n', ' ')\n",
    "    urls = extractor.find_urls(full)\n",
    "    if len(urls) > 0:\n",
    "        for u in urls:\n",
    "            full = full.replace(u, \"\")\n",
    "    id_txt.append(full)\n",
    "#linkek eltávolítása"
   ]
  },
  {
   "cell_type": "code",
   "execution_count": 21,
   "metadata": {},
   "outputs": [
    {
     "data": {
      "text/plain": [
       "122038"
      ]
     },
     "execution_count": 21,
     "metadata": {},
     "output_type": "execute_result"
    }
   ],
   "source": [
    "len(id_txt)"
   ]
  },
  {
   "cell_type": "code",
   "execution_count": 22,
   "metadata": {},
   "outputs": [],
   "source": [
    "df_new2[\"nolink\"]=id_txt"
   ]
  },
  {
   "cell_type": "code",
   "execution_count": 24,
   "metadata": {},
   "outputs": [],
   "source": [
    "df_new2.to_excel(\"depression_data_2020covid_deprred_clean_v4.xlsx\", index=False)\n",
    "#adatbázis kimentése"
   ]
  },
  {
   "cell_type": "code",
   "execution_count": 1,
   "metadata": {},
   "outputs": [],
   "source": [
    "import pandas as pd\n",
    "df = pd.read_excel(\"C:/Users/zabor/Desktop/depression_data_2020covid_deprred_clean_v4.xlsx\")\n",
    "#kimentett adatbázis beolvasása"
   ]
  },
  {
   "cell_type": "code",
   "execution_count": 2,
   "metadata": {},
   "outputs": [],
   "source": [
    "txt_hossz = []\n",
    "for i in range(len(df[\"nolink\"])):\n",
    "    txt_hossz.append(len(str(df[\"nolink\"][i]).split()))\n",
    "df['txt_hossz'] = txt_hossz\n",
    "df_hossz = df[df['txt_hossz'] >= 20]\n",
    "df_hossz = df_hossz.reset_index(drop = True)\n",
    "#20 szó alattiak törlése"
   ]
  },
  {
   "cell_type": "code",
   "execution_count": 3,
   "metadata": {},
   "outputs": [
    {
     "name": "stdout",
     "output_type": "stream",
     "text": [
      "showing info https://raw.githubusercontent.com/nltk/nltk_data/gh-pages/index.xml\n"
     ]
    }
   ],
   "source": [
    "import itertools\n",
    "import tqdm\n",
    "import os\n",
    "import re\n",
    "import contractions #ehhez pip install kell\n",
    "\n",
    "from datetime import datetime\n",
    "\n",
    "import nltk\n",
    "nltk.download()\n",
    "from nltk.collocations import BigramCollocationFinder\n",
    "from nltk.corpus import stopwords\n",
    "from nltk.stem import WordNetLemmatizer\n",
    "from nltk.corpus import wordnet\n",
    "from nltk.tag.stanford import StanfordNERTagger\n",
    "#csomagok letöltése"
   ]
  },
  {
   "cell_type": "code",
   "execution_count": 4,
   "metadata": {},
   "outputs": [],
   "source": [
    "st = StanfordNERTagger('C:/Users/zabor/OneDrive/ELTE/szakdolgozat/adatok/stanford-ner-2020-11-17/classifiers/english.all.3class.distsim.crf.ser.gz',\n",
    "                       'C:/Users/zabor/OneDrive/ELTE/szakdolgozat/adatok/stanford-ner-2020-11-17/stanford-ner.jar')\n",
    "\n",
    "lemmatizer = WordNetLemmatizer()\n",
    "\n",
    "stop_en = stopwords.words('english')\n",
    "#nevezett entitás felismerés (NER tagger), lemmatizálás, stopszavazás behívása"
   ]
  },
  {
   "cell_type": "code",
   "execution_count": 5,
   "metadata": {},
   "outputs": [],
   "source": [
    "person_list = []\n",
    "person_full = []\n",
    "\n",
    "def get_human_names(text):\n",
    "    tokens = nltk.tokenize.word_tokenize(text)\n",
    "    pos = nltk.pos_tag(tokens)\n",
    "    sentt = nltk.ne_chunk(pos, binary=False)\n",
    "\n",
    "    person = []\n",
    "    name = \"\"\n",
    "    for subtree in sentt.subtrees(filter=lambda t: t.label() == 'PERSON'):\n",
    "        for leaf in subtree.leaves():\n",
    "            person.append(leaf[0])\n",
    "        if len(person) > 1: #magányos vezetéknevek kigyűjtésének elkerülése\n",
    "            for part in person:\n",
    "                name += part + ' '\n",
    "            person_full.append(name[:-1])\n",
    "            if name[:-1] not in person_list:\n",
    "                person_list.append(name[:-1])\n",
    "            name = ''\n",
    "        person = []\n",
    "#nevekből lista készítés"
   ]
  },
  {
   "cell_type": "code",
   "execution_count": 6,
   "metadata": {},
   "outputs": [
    {
     "data": {
      "text/plain": [
       "(101857, 31)"
      ]
     },
     "execution_count": 6,
     "metadata": {},
     "output_type": "execute_result"
    }
   ],
   "source": [
    "df_hossz.shape"
   ]
  },
  {
   "cell_type": "code",
   "execution_count": 7,
   "metadata": {},
   "outputs": [],
   "source": [
    "for i in range(len(df_hossz)):\n",
    "    f = open(\"Data/Nolink_txts/\"+str(i), \"w\", encoding='utf-8')\n",
    "    f.write(str(df_hossz[\"nolink\"][i]))\n",
    "    f.close()\n",
    "#szövegek kimentése fájlokba"
   ]
  },
  {
   "cell_type": "code",
   "execution_count": 8,
   "metadata": {},
   "outputs": [
    {
     "name": "stderr",
     "output_type": "stream",
     "text": [
      "100%|████████████████████████████████████████████████████████████████████████| 101857/101857 [1:47:21<00:00, 15.81it/s]\n",
      "100%|████████████████████████████████████████████████████████████████████████| 10192/10192 [00:00<00:00, 636818.41it/s]\n"
     ]
    }
   ],
   "source": [
    "import os\n",
    "#nevek megkeresése a fájlokban\n",
    "in_path = os.path.join('Data', 'Nolink_txts')\n",
    "in_files = [f for f in os.listdir(in_path) if os.path.isfile(os.path.join(in_path, f))]\n",
    "\n",
    "for file in tqdm.tqdm(in_files):\n",
    "    try:\n",
    "        with open(os.path.join(in_path, file), 'r', encoding='utf-8') as article:\n",
    "            article_text = article.read()\n",
    "        get_human_names(article_text)\n",
    "    except Exception as e:\n",
    "        print(file, e)\n",
    "\n",
    "#nevek kiírása\n",
    "ner_file = open(os.path.join('Data', 'ner.tsv'), 'w', encoding='utf-8')\n",
    "for name in tqdm.tqdm(person_list):\n",
    "    namelist = name.split()\n",
    "    line = \" \".join(namelist) + \"\\t\" +\"_\".join(namelist) + \"\\n\"\n",
    "    line = line.lower()\n",
    "    ner_file.write(line)\n",
    "ner_file.close()"
   ]
  },
  {
   "cell_type": "code",
   "execution_count": 9,
   "metadata": {},
   "outputs": [],
   "source": [
    "name_list = open(os.path.join('Data', 'ner_nr.tsv'), 'r',\n",
    "                   encoding='utf-8').readlines()\n",
    "\n",
    "illness_list = open(os.path.join('Data', 'betegseg.tsv'), 'r',\n",
    "                    encoding='utf-8').readlines()\n",
    "#fájlok soronként beolvasása a két változóba"
   ]
  },
  {
   "cell_type": "code",
   "execution_count": 10,
   "metadata": {},
   "outputs": [],
   "source": [
    "replace_list = name_list + illness_list\n",
    "\n",
    "\n",
    "replace_list = open(os.path.join('Data', 'betegseg.tsv'), 'r',\n",
    "                    encoding='utf-8').readlines()"
   ]
  },
  {
   "cell_type": "code",
   "execution_count": 11,
   "metadata": {},
   "outputs": [],
   "source": [
    "replace = []\n",
    "for r in replace_list:\n",
    "    w1, w2 = r.strip().split('\\t')\n",
    "    tup = (w1, w2)\n",
    "    replace.append(tup)"
   ]
  },
  {
   "cell_type": "code",
   "execution_count": 12,
   "metadata": {},
   "outputs": [],
   "source": [
    "def filter_names(text, r=replace):\n",
    "    text = \" \" + text + \" \"\n",
    "    for i in r:\n",
    "        text = text.replace(\" \" + i[0] + \" \", \" \" + i[1] + \" \")\n",
    "    return text\n",
    "#szóközös szavak cseréje alsóvonalas szópárokra"
   ]
  },
  {
   "cell_type": "code",
   "execution_count": 14,
   "metadata": {},
   "outputs": [],
   "source": [
    "out_path = os.path.join('Data', 'txts_ner')\n",
    "folder = [f for f in os.listdir(out_path) if os.path.isfile(os.path.join(out_path, f))]\n",
    "if len(folder) != 0:\n",
    "    for f in folder:\n",
    "        os.remove(os.path.join(out_path, f))\n",
    "#txts_ner mappából régi fájlok törlése (ha vannak)"
   ]
  },
  {
   "cell_type": "code",
   "execution_count": 15,
   "metadata": {},
   "outputs": [
    {
     "name": "stderr",
     "output_type": "stream",
     "text": [
      "100%|████████████████████████████████████████████████████████████████████████| 101857/101857 [01:17<00:00, 1319.28it/s]\n"
     ]
    }
   ],
   "source": [
    "file = 0\n",
    "for filename in tqdm.tqdm(in_files):\n",
    "    try:\n",
    "        article = open(os.path.join(in_path, filename), 'r', encoding='utf-8').read()\n",
    "        article = article.lower()\n",
    "        article = re.sub(r'[^\\'^\\w\\s]', '', article)\n",
    "        names = filter_names(article)\n",
    "        with open(os.path.join(out_path, in_files[file]), 'w', encoding='utf-8') as out_file:\n",
    "            out_file.write(names)\n",
    "    except Exception as e:\n",
    "        print(in_files[file], e)\n",
    "    file += 1\n",
    "#fájlok beolvasása, majd szavak kicserélése betegseg.tsv egyezés alapján és kimentésük a txts_ner mappába"
   ]
  },
  {
   "cell_type": "code",
   "execution_count": 16,
   "metadata": {},
   "outputs": [],
   "source": [
    "in_path = os.path.join('Data', 'txts_ner')\n",
    "in_files = [f for f in os.listdir(in_path) if os.path.isfile(os.path.join(in_path, f))]"
   ]
  },
  {
   "cell_type": "code",
   "execution_count": 17,
   "metadata": {},
   "outputs": [],
   "source": [
    "def fix_contractions(text):\n",
    "    fixed = contractions.fix(text)\n",
    "    return fixed\n",
    "#angol összevonások kezelése pl.: you're -> you are"
   ]
  },
  {
   "cell_type": "code",
   "execution_count": 18,
   "metadata": {},
   "outputs": [],
   "source": [
    "def get_wordnet_pos(word):\n",
    "    \"\"\"Map POS tag to first character lemmatize() accepts\"\"\"\n",
    "    tag = nltk.pos_tag([word])[0][1][0].upper()\n",
    "    tag_dict = {\"J\": wordnet.ADJ,\n",
    "                \"N\": wordnet.NOUN,\n",
    "                \"V\": wordnet.VERB,\n",
    "                \"R\": wordnet.ADV}\n",
    "\n",
    "    return tag_dict.get(tag, wordnet.NOUN)\n",
    "#szófajok meghatározása: határozószavak, főnevek, igék, melléknevek"
   ]
  },
  {
   "cell_type": "code",
   "execution_count": 20,
   "metadata": {},
   "outputs": [],
   "source": [
    "def stem_filter(text):\n",
    "    proc_list = []\n",
    "    doc = text.strip()\n",
    "    for w in nltk.word_tokenize(doc):\n",
    "        w = w.lower()\n",
    "        tok_lemma = lemmatizer.lemmatize(w, get_wordnet_pos(w))\n",
    "        proc_list.append(tok_lemma)\n",
    "    return ' '.join(proc_list)\n",
    "#szavak stemmelése"
   ]
  },
  {
   "cell_type": "code",
   "execution_count": 21,
   "metadata": {},
   "outputs": [],
   "source": [
    "out_path_lem = os.path.join('Data', 'txts_stempos')\n",
    "folder = [f for f in os.listdir(out_path_lem) if os.path.isfile(os.path.join(out_path_lem, f))]\n",
    "folder_set = set(folder)"
   ]
  },
  {
   "cell_type": "code",
   "execution_count": 22,
   "metadata": {},
   "outputs": [
    {
     "name": "stderr",
     "output_type": "stream",
     "text": [
      "100%|████████████████████████████████████████████████████████████████████████| 101857/101857 [2:27:26<00:00, 11.51it/s]\n"
     ]
    }
   ],
   "source": [
    "for file in tqdm.tqdm(in_files):\n",
    "    if file in folder_set:\n",
    "        continue\n",
    "    try:\n",
    "        with open(os.path.join(in_path, file), 'r', encoding='utf-8') as article:\n",
    "            article_text = article.read()\n",
    "        fixed_text = fix_contractions(article_text)\n",
    "        filtered = stem_filter(fixed_text)\n",
    "        with open(os.path.join(out_path_lem, file), 'w', encoding='utf-8') as outfile:\n",
    "            outfile.write(filtered)\n",
    "    except Exception as e:\n",
    "        print(file, e)\n",
    "#összevonások kezelése és stemmelés, majd szövegek kimentése"
   ]
  },
  {
   "cell_type": "code",
   "execution_count": 23,
   "metadata": {},
   "outputs": [
    {
     "name": "stderr",
     "output_type": "stream",
     "text": [
      "100%|█████████████████████████████████████████████████████████████████████████| 101857/101857 [04:47<00:00, 354.55it/s]\n",
      "100%|███████████████████████████████████████████████████████████████████████| 101857/101857 [00:01<00:00, 53093.89it/s]\n",
      "100%|████████████████████████████████████████████████████████████████████████████| 500/500 [00:00<00:00, 499559.79it/s]\n",
      "100%|████████████████████████████████████████████████████████████████████████| 101857/101857 [01:33<00:00, 1085.98it/s]\n"
     ]
    }
   ],
   "source": [
    "in_folder = 'txts_stempos'\n",
    "in_path = os.path.join('Data', in_folder)\n",
    "in_files = [f for f in os.listdir(in_path) if os.path.isfile(os.path.join(in_path, f))]\n",
    "\n",
    "#összes fájl listába rakása\n",
    "txt_sigbig = []\n",
    "for filename in tqdm.tqdm(in_files):\n",
    "    try:\n",
    "        with open(os.path.join(in_path, filename), 'r', encoding='utf-8') as infile:\n",
    "            article = infile.read()\n",
    "        txt_sigbig.append(article)\n",
    "    except Exception as e:\n",
    "        print(e)\n",
    "\n",
    "#szövegekből és szavakból álló listák készítése\n",
    "txts_sigbig = []\n",
    "for t in tqdm.tqdm(txt_sigbig):\n",
    "    txts_sigbig.append(t.strip().split())\n",
    "words_sigbig = list(itertools.chain(*txts_sigbig))\n",
    "\n",
    "bigram_measures = nltk.collocations.BigramAssocMeasures()\n",
    "\n",
    "\n",
    "#függvények definiálása bigramok készítéséhez\n",
    "def bag_of_words(words):\n",
    "    return dict([(word, True) for word in words])\n",
    "\n",
    "\n",
    "#forrás: http://www.nltk.org/howto/collocations.html\n",
    "def bag_of_bigrams_words(words, score_fn=bigram_measures.pmi, n=500):\n",
    "    bigram_finder = BigramCollocationFinder.from_words(words)\n",
    "    bigram_finder.apply_freq_filter(min_freq=20)\n",
    "    bigrams = bigram_finder.nbest(score_fn, n)\n",
    "    return bag_of_words(bigrams)\n",
    "\n",
    "\n",
    "#bigramok kimentése fájlba\n",
    "bigrams_file = open(os.path.join('Data', 'significant_bigrams.tsv'), 'w', encoding='utf-8')\n",
    "\n",
    "#bigram detektálás\n",
    "detected_bigrams = bag_of_bigrams_words(words_sigbig)\n",
    "\n",
    "for bigram in tqdm.tqdm(detected_bigrams):\n",
    "    line = bigram[0] + ' ' + bigram[1] + \"\\t\" + bigram[0] + \"_\" + bigram[1] + '\\n'\n",
    "    bigrams_file.write(line)\n",
    "bigrams_file.close()\n",
    "\n",
    "#bigramok listájának betöltése\n",
    "bigram_list = open(os.path.join('Data', 'significant_bigrams_nr.tsv'), 'r',\n",
    "                   encoding='utf-8').readlines()\n",
    "\n",
    "\n",
    "#bigramok listába rakása\n",
    "bigrams = []\n",
    "for bigram in bigram_list:\n",
    "    w1, w2 = bigram.strip().split('\\t')\n",
    "    tup = (w1, w2)\n",
    "    bigrams.append(tup)\n",
    "\n",
    "\n",
    "#függvény bigramokok cseréjéhez\n",
    "def filter_bigrams(text, xgrams=bigrams):\n",
    "    text = \" \" + text + \" \"\n",
    "    for i in xgrams:\n",
    "        text = text.replace(\" \" + i[0] + \" \", \" \" + i[1] + \" \")\n",
    "    return text\n",
    "\n",
    "\n",
    "#fájlok törlése a mappában (ha vannak)\n",
    "out_path_sigbig = os.path.join('Data', 'txts_bigram')\n",
    "folder = [f for f in os.listdir(out_path_sigbig) if os.path.isfile(os.path.join(out_path_sigbig, f))]\n",
    "if len(folder) != 0:\n",
    "    for f in folder:\n",
    "        os.remove(os.path.join(out_path_sigbig, f))\n",
    "\n",
    "#bigramok cseréje\n",
    "file = 0\n",
    "for filename in tqdm.tqdm(in_files):\n",
    "    try:\n",
    "        article = open(os.path.join(in_path, filename), 'r', encoding='utf-8').read()\n",
    "        sigbigrams = filter_bigrams(article)\n",
    "        with open(os.path.join(out_path_sigbig, in_files[file]), 'w', encoding='utf-8') as out_file:\n",
    "            out_file.write(sigbigrams)\n",
    "    except Exception as e:\n",
    "        print(in_files[file], e)\n",
    "        continue\n",
    "    file += 1"
   ]
  },
  {
   "cell_type": "code",
   "execution_count": 24,
   "metadata": {},
   "outputs": [
    {
     "name": "stderr",
     "output_type": "stream",
     "text": [
      "100%|█████████████████████████████████████████████████████████████████████████| 101857/101857 [04:43<00:00, 359.65it/s]\n",
      "100%|████████████████████████████████████████████████████████████████████████| 101857/101857 [2:17:48<00:00, 12.32it/s]\n"
     ]
    }
   ],
   "source": [
    "in_folder = 'txts_bigram'\n",
    "in_path = os.path.join('Data', in_folder)\n",
    "in_files = [f for f in os.listdir(in_path) if os.path.isfile(os.path.join(in_path, f))]\n",
    "\n",
    "\n",
    "#szövegek listázása a txts_bigram mappából\n",
    "txt = []\n",
    "for filename in tqdm.tqdm(in_files):\n",
    "    with open(os.path.join(in_path, filename), 'r', encoding='utf-8') as infile:\n",
    "        article = infile.read()\n",
    "    txt.append(article)\n",
    "\n",
    "\n",
    "out_path = os.path.join('Data', 'txts_final')\n",
    "\n",
    "#stopszavazás\n",
    "for filename in tqdm.tqdm(in_files):\n",
    "    try:\n",
    "        with open(os.path.join(in_path, filename), 'r', encoding='utf-8') as article:\n",
    "            text = article.read()\n",
    "        words = text.split()\n",
    "        article_clean = []\n",
    "        for word in words:\n",
    "            if nltk.pos_tag([word])[0][1] == 'PRP' or word not in stop_en:\n",
    "                article_clean.append(word)\n",
    "        with open(os.path.join(out_path, filename), 'w', encoding='utf-8') as outfile:\n",
    "            outfile.write(' '.join(article_clean))\n",
    "    except Exception as e:\n",
    "        print(filename, e)"
   ]
  },
  {
   "cell_type": "code",
   "execution_count": 26,
   "metadata": {},
   "outputs": [
    {
     "data": {
      "text/plain": [
       "healthunlocked.com             77259\n",
       "beyondblue.org.au              15365\n",
       "saneforums.org                  7511\n",
       "christianforums.com             7467\n",
       "depressionforums.org            7242\n",
       "alonelylife.com                 2062\n",
       "carenity.co.uk                  1886\n",
       "psychforums.com                 1687\n",
       "mdsc.ca                          533\n",
       "depression-understood.org        466\n",
       "dealingwithdepression.co.uk      397\n",
       "youthbeyondblue.com               87\n",
       "reddit.com                        58\n",
       "forums.osmihelp.org               18\n",
       "Name: domain2, dtype: int64"
      ]
     },
     "execution_count": 26,
     "metadata": {},
     "output_type": "execute_result"
    }
   ],
   "source": [
    "df[\"domain2\"].value_counts()\n",
    "#bejegyzések száma források szerint"
   ]
  },
  {
   "cell_type": "code",
   "execution_count": null,
   "metadata": {},
   "outputs": [],
   "source": []
  }
 ],
 "metadata": {
  "kernelspec": {
   "display_name": "Python 3",
   "language": "python",
   "name": "python3"
  },
  "language_info": {
   "codemirror_mode": {
    "name": "ipython",
    "version": 3
   },
   "file_extension": ".py",
   "mimetype": "text/x-python",
   "name": "python",
   "nbconvert_exporter": "python",
   "pygments_lexer": "ipython3",
   "version": "3.8.5"
  }
 },
 "nbformat": 4,
 "nbformat_minor": 4
}
